{
  "nbformat": 4,
  "nbformat_minor": 0,
  "metadata": {
    "colab": {
      "provenance": [],
      "authorship_tag": "ABX9TyOQbZXsur3UDotQ4eV1AcWm",
      "include_colab_link": true
    },
    "kernelspec": {
      "name": "python3",
      "display_name": "Python 3"
    },
    "language_info": {
      "name": "python"
    }
  },
  "cells": [
    {
      "cell_type": "markdown",
      "metadata": {
        "id": "view-in-github",
        "colab_type": "text"
      },
      "source": [
        "<a href=\"https://colab.research.google.com/github/TarasStasko/Python08/blob/main/Practice8.ipynb\" target=\"_parent\"><img src=\"https://colab.research.google.com/assets/colab-badge.svg\" alt=\"Open In Colab\"/></a>"
      ]
    },
    {
      "cell_type": "code",
      "execution_count": null,
      "metadata": {
        "id": "DVhuzjuZT175"
      },
      "outputs": [],
      "source": [
        "import numpy as np"
      ]
    },
    {
      "cell_type": "code",
      "source": [
        "import numpy as np\n",
        "\n",
        "grades_list = [85, 92, 78, 90, 95]\n",
        "\n",
        "grades_array = np.array(grades_list)\n",
        "\n",
        "print(\"Student's grades as a numpy array:\")\n",
        "print(grades_array)\n"
      ],
      "metadata": {
        "colab": {
          "base_uri": "https://localhost:8080/"
        },
        "id": "ttibwzUHUMi5",
        "outputId": "1bb515be-ee5e-457f-acdd-8d227c14b08c"
      },
      "execution_count": 2,
      "outputs": [
        {
          "output_type": "stream",
          "name": "stdout",
          "text": [
            "Student's grades as a numpy array:\n",
            "[85 92 78 90 95]\n"
          ]
        }
      ]
    },
    {
      "cell_type": "code",
      "source": [
        "import numpy as np\n",
        "\n",
        "prices_list = [\n",
        "    [2.50, 2.00, 1.50, 3.20],\n",
        "    [2.70, 1.90, 1.60, 3.50],\n",
        "    [2.40, 2.10, 1.70, 3.00]\n",
        "]\n",
        "\n",
        "prices_matrix = np.array(prices_list)\n",
        "\n",
        "print(\"Prices matrix:\")\n",
        "print(prices_matrix)\n"
      ],
      "metadata": {
        "colab": {
          "base_uri": "https://localhost:8080/"
        },
        "id": "18cmkkqsVwsv",
        "outputId": "ff22489c-895c-420a-fc20-29fceb9906d6"
      },
      "execution_count": 3,
      "outputs": [
        {
          "output_type": "stream",
          "name": "stdout",
          "text": [
            "Prices matrix:\n",
            "[[2.5 2.  1.5 3.2]\n",
            " [2.7 1.9 1.6 3.5]\n",
            " [2.4 2.1 1.7 3. ]]\n"
          ]
        }
      ]
    },
    {
      "cell_type": "code",
      "source": [
        "import numpy as np\n",
        "\n",
        "grades_list = [85, 92, 78, 90, 95]\n",
        "grades_array = np.array(grades_list)\n",
        "\n",
        "prices_list = [\n",
        "    [2.50, 2.00, 1.50, 3.20],\n",
        "    [2.70, 1.90, 1.60, 3.50],\n",
        "    [2.40, 2.10, 1.70, 3.00]\n",
        "]\n",
        "prices_matrix = np.array(prices_list)\n",
        "\n",
        "grades_dtype = grades_array.dtype\n",
        "prices_dtype = prices_matrix.dtype\n",
        "\n",
        "print(\"Data type of grades values:\", grades_dtype)\n",
        "print(\"Data type of prices values:\", prices_dtype)\n"
      ],
      "metadata": {
        "colab": {
          "base_uri": "https://localhost:8080/"
        },
        "id": "TG1cNlcnV3uI",
        "outputId": "4715a3c4-28bb-4410-bc9a-5267c15c2fd4"
      },
      "execution_count": 4,
      "outputs": [
        {
          "output_type": "stream",
          "name": "stdout",
          "text": [
            "Data type of grades values: int64\n",
            "Data type of prices values: float64\n"
          ]
        }
      ]
    },
    {
      "cell_type": "code",
      "source": [
        "import numpy as np\n",
        "\n",
        "grades_list = [85, 92, 78, 90, 95]\n",
        "grades_array = np.array(grades_list)\n",
        "\n",
        "prices_list = [\n",
        "    [2.50, 2.00, 1.50, 3.20],\n",
        "    [2.70, 1.90, 1.60, 3.50],\n",
        "    [2.40, 2.10, 1.70, 3.00]\n",
        "]\n",
        "prices_matrix = np.array(prices_list)\n",
        "\n",
        "grades_shape = grades_array.shape\n",
        "prices_shape = prices_matrix.shape\n",
        "\n",
        "print(\"Shape of grades array:\", grades_shape)\n",
        "print(\"Shape of prices matrix:\", prices_shape)\n"
      ],
      "metadata": {
        "colab": {
          "base_uri": "https://localhost:8080/"
        },
        "id": "tqBvwr0pWsOF",
        "outputId": "a3b4ccc6-c8fa-43c4-df4c-a0bc8008f19f"
      },
      "execution_count": 5,
      "outputs": [
        {
          "output_type": "stream",
          "name": "stdout",
          "text": [
            "Shape of grades array: (5,)\n",
            "Shape of prices matrix: (3, 4)\n"
          ]
        }
      ]
    },
    {
      "cell_type": "markdown",
      "source": [
        "\n",
        "Масив, створений у завданні 2, має форму одновимірного масиву, оскільки він створений зі списку одновимірних даних. Оскільки масив має тільки один рівень вкладеності, його форма буде (n,), де n - кількість елементів у масиві."
      ],
      "metadata": {
        "id": "n-HFeQT8XYl8"
      }
    },
    {
      "cell_type": "code",
      "source": [
        "import numpy as np\n",
        "\n",
        "grades_list = [85, 92, 78, 90, 95]\n",
        "grades_array = np.array(grades_list)\n",
        "\n",
        "grades_column_vector = grades_array.reshape(-1, 1)\n",
        "\n",
        "print(grades_column_vector)\n"
      ],
      "metadata": {
        "colab": {
          "base_uri": "https://localhost:8080/"
        },
        "id": "hyHwllrZXeCD",
        "outputId": "b8db810f-5828-417c-8abf-65ac8314828d"
      },
      "execution_count": 7,
      "outputs": [
        {
          "output_type": "stream",
          "name": "stdout",
          "text": [
            "[[85]\n",
            " [92]\n",
            " [78]\n",
            " [90]\n",
            " [95]]\n"
          ]
        }
      ]
    },
    {
      "cell_type": "markdown",
      "source": [
        "Масиви NumPy надають багато операцій, які легко застосовувати до всього масиву за один раз.\n",
        "Масиви NumPy оптимізовані для швидкості та ефективності обробки даних.\n",
        "Масиви NumPy мають багато вбудованих функцій та методів для обробки даних, таких як сортування, фільтрація, статистичні обчислення і т.д., що спрощує роботу з ними.\n",
        "Масиви NumPy використовують менше пам'яті."
      ],
      "metadata": {
        "id": "nJ8knDnFYKc8"
      }
    },
    {
      "cell_type": "code",
      "source": [
        "import numpy as np\n",
        "\n",
        "profit_array = np.linspace(0, 1000.50, 7)\n",
        "\n",
        "print(profit_array)\n"
      ],
      "metadata": {
        "colab": {
          "base_uri": "https://localhost:8080/"
        },
        "id": "TO_yOKDFXoWt",
        "outputId": "8d9ba9ff-4877-49b0-b7fb-08fae3171650"
      },
      "execution_count": 8,
      "outputs": [
        {
          "output_type": "stream",
          "name": "stdout",
          "text": [
            "[   0.    166.75  333.5   500.25  667.    833.75 1000.5 ]\n"
          ]
        }
      ]
    },
    {
      "cell_type": "code",
      "source": [
        "import numpy as np\n",
        "\n",
        "array1 = np.array([1, 2, 3])\n",
        "array2 = np.array([4, 5, 6])\n",
        "\n",
        "vertical_stack = np.vstack((array1, array2))\n",
        "horizontal_stack = np.hstack((array1, array2))\n",
        "\n",
        "print(\"Vertical stacking of arrays:\")\n",
        "print(vertical_stack)\n",
        "print(\"\\nHorizontal stacking of arrays:\")\n",
        "print(horizontal_stack)\n"
      ],
      "metadata": {
        "colab": {
          "base_uri": "https://localhost:8080/"
        },
        "id": "5eEd1GAkY-xy",
        "outputId": "576bbe02-2095-4200-e5ec-1b9879ecbf38"
      },
      "execution_count": 9,
      "outputs": [
        {
          "output_type": "stream",
          "name": "stdout",
          "text": [
            "Vertical stacking of arrays:\n",
            "[[1 2 3]\n",
            " [4 5 6]]\n",
            "\n",
            "Horizontal stacking of arrays:\n",
            "[1 2 3 4 5 6]\n"
          ]
        }
      ]
    },
    {
      "cell_type": "code",
      "source": [
        "import numpy as np\n",
        "\n",
        "\n",
        "def transpose_array(arr):\n",
        "    \"\"\"\n",
        "    Transpose the input array using reshape method.\n",
        "\n",
        "    Parameters:\n",
        "    arr (numpy.ndarray): Input array to be transposed.\n",
        "\n",
        "    Returns:\n",
        "    numpy.ndarray: Transposed array.\n",
        "    \"\"\"\n",
        "    transposed_arr = arr.reshape(arr.shape[::-1])\n",
        "    return transposed_arr\n",
        "\n",
        "\n",
        "input_array = np.array([[1, 2, 3],\n",
        "                        [4, 5, 6]])\n",
        "transposed_array = transpose_array(input_array)\n",
        "print(\"Original array:\")\n",
        "print(input_array)\n",
        "print(\"Transposed array:\")\n",
        "print(transposed_array)\n"
      ],
      "metadata": {
        "colab": {
          "base_uri": "https://localhost:8080/"
        },
        "id": "RPoK_5TJZxc6",
        "outputId": "9c7a2888-553f-4035-a684-6f1364bc5188"
      },
      "execution_count": 23,
      "outputs": [
        {
          "output_type": "stream",
          "name": "stdout",
          "text": [
            "Original array:\n",
            "[[1 2 3]\n",
            " [4 5 6]]\n",
            "Transposed array:\n",
            "[[1 2]\n",
            " [3 4]\n",
            " [5 6]]\n"
          ]
        }
      ]
    },
    {
      "cell_type": "code",
      "source": [
        "import numpy as np\n",
        "\n",
        "array1 = np.array([[1, 2, 3],\n",
        "                   [4, 5, 6]])\n",
        "\n",
        "array2 = np.array([[7, 8, 9],\n",
        "                   [10, 11, 12]])\n",
        "\n",
        "elementwise_addition = array1 + array2\n",
        "\n",
        "elementwise_subtraction = array1 - array2\n",
        "\n",
        "scalar_multiplication = 2 * array1\n",
        "\n",
        "elementwise_multiplication = array1 * array2\n",
        "\n",
        "matrix_multiplication = np.dot(array1, array2.T)\n",
        "\n",
        "print(\"Array 1:\")\n",
        "print(array1)\n",
        "\n",
        "print(\"\\nArray 2:\")\n",
        "print(array2)\n",
        "\n",
        "print(\"\\nElement-wise addition:\")\n",
        "print(elementwise_addition)\n",
        "\n",
        "print(\"\\nElement-wise subtraction:\")\n",
        "print(elementwise_subtraction)\n",
        "\n",
        "print(\"\\nScalar multiplication:\")\n",
        "print(scalar_multiplication)\n",
        "\n",
        "print(\"\\nElement-wise multiplication:\")\n",
        "print(elementwise_multiplication)\n",
        "\n",
        "print(\"\\nMatrix multiplication:\")\n",
        "print(matrix_multiplication)\n"
      ],
      "metadata": {
        "colab": {
          "base_uri": "https://localhost:8080/"
        },
        "id": "021LEEwWhA_v",
        "outputId": "497a43b8-3f00-4205-8404-172b014b8954"
      },
      "execution_count": 24,
      "outputs": [
        {
          "output_type": "stream",
          "name": "stdout",
          "text": [
            "Array 1:\n",
            "[[1 2 3]\n",
            " [4 5 6]]\n",
            "\n",
            "Array 2:\n",
            "[[ 7  8  9]\n",
            " [10 11 12]]\n",
            "\n",
            "Element-wise addition:\n",
            "[[ 8 10 12]\n",
            " [14 16 18]]\n",
            "\n",
            "Element-wise subtraction:\n",
            "[[-6 -6 -6]\n",
            " [-6 -6 -6]]\n",
            "\n",
            "Scalar multiplication:\n",
            "[[ 2  4  6]\n",
            " [ 8 10 12]]\n",
            "\n",
            "Element-wise multiplication:\n",
            "[[ 7 16 27]\n",
            " [40 55 72]]\n",
            "\n",
            "Matrix multiplication:\n",
            "[[ 50  68]\n",
            " [122 167]]\n"
          ]
        }
      ]
    },
    {
      "cell_type": "code",
      "source": [
        "import numpy as np\n",
        "\n",
        "matrix = np.array([[1, 2, 3],\n",
        "                   [4, 5, 6],\n",
        "                   [7, 8, 9]])\n",
        "\n",
        "minimum_number = np.min(matrix)\n",
        "maximum_number = np.max(matrix)\n",
        "sum_of_numbers = np.sum(matrix)\n",
        "min_per_row = np.min(matrix, axis=1)\n",
        "max_per_column = np.max(matrix, axis=0)\n",
        "\n",
        "print(\"Matrix:\")\n",
        "print(matrix)\n",
        "\n",
        "print(\"\\nMinimum number:\", minimum_number)\n",
        "print(\"Maximum number:\", maximum_number)\n",
        "print(\"Sum of numbers:\", sum_of_numbers)\n",
        "print(\"Minimum numbers for each row:\", min_per_row)\n",
        "print(\"Maximum numbers for each column:\", max_per_column)\n"
      ],
      "metadata": {
        "colab": {
          "base_uri": "https://localhost:8080/"
        },
        "id": "Z5YzJsUkiGK8",
        "outputId": "8e2100ce-ea8f-4d5d-cca2-9fa1c70a7004"
      },
      "execution_count": 25,
      "outputs": [
        {
          "output_type": "stream",
          "name": "stdout",
          "text": [
            "Matrix:\n",
            "[[1 2 3]\n",
            " [4 5 6]\n",
            " [7 8 9]]\n",
            "\n",
            "Minimum number: 1\n",
            "Maximum number: 9\n",
            "Sum of numbers: 45\n",
            "Minimum numbers for each row: [1 4 7]\n",
            "Maximum numbers for each column: [7 8 9]\n"
          ]
        }
      ]
    },
    {
      "cell_type": "code",
      "source": [
        "import numpy as np\n",
        "\n",
        "matrix = np.array([[1, 2, 3],\n",
        "                   [4, 5, 6],\n",
        "                   [7, 8, 9]])\n",
        "\n",
        "values = matrix[1:-1, 0:2]\n",
        "\n",
        "print(\"Values of the first and second column for all rows except the first and last:\")\n",
        "print(values)\n"
      ],
      "metadata": {
        "colab": {
          "base_uri": "https://localhost:8080/"
        },
        "id": "d_y_xC0Ni5uS",
        "outputId": "88605d09-f3c6-45e7-b128-9cf14e4b72f9"
      },
      "execution_count": 26,
      "outputs": [
        {
          "output_type": "stream",
          "name": "stdout",
          "text": [
            "Values of the first and second column for all rows except the first and last:\n",
            "[[4 5]]\n"
          ]
        }
      ]
    },
    {
      "cell_type": "code",
      "source": [
        "import numpy as np\n",
        "\n",
        "matrix = np.array([[1, 2, 3],\n",
        "                   [4, 5, 6],\n",
        "                   [1, 2, 3],\n",
        "                   [7, 8, 9]])\n",
        "\n",
        "flattened_matrix = matrix.flatten()\n",
        "\n",
        "unique_values, frequencies = np.unique(flattened_matrix, return_counts=True)\n",
        "\n",
        "print(\"Unique values in the matrix:\", unique_values)\n",
        "print(\"Frequencies of unique values:\", frequencies)\n"
      ],
      "metadata": {
        "colab": {
          "base_uri": "https://localhost:8080/"
        },
        "id": "_O8u0905j_wT",
        "outputId": "7f34875a-e847-4a05-c051-4903bd627d78"
      },
      "execution_count": 27,
      "outputs": [
        {
          "output_type": "stream",
          "name": "stdout",
          "text": [
            "Unique values in the matrix: [1 2 3 4 5 6 7 8 9]\n",
            "Frequencies of unique values: [2 2 2 1 1 1 1 1 1]\n"
          ]
        }
      ]
    },
    {
      "cell_type": "code",
      "source": [
        "import numpy as np\n",
        "\n",
        "height = 480\n",
        "width = 720\n",
        "\n",
        "image = np.zeros((height, width, 3), dtype=np.uint8)\n",
        "\n",
        "middle_pixel_height = height // 2\n",
        "\n",
        "image[:middle_pixel_height, :, :] = [0, 87, 184]\n",
        "\n",
        "image[middle_pixel_height:, :, :] = [255, 215, 0]\n",
        "\n",
        "image\n"
      ],
      "metadata": {
        "id": "k0qw-ncTkJfW"
      },
      "execution_count": null,
      "outputs": []
    }
  ]
}